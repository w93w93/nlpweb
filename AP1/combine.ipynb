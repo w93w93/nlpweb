{
 "cells": [
  {
   "cell_type": "code",
   "execution_count": 3,
   "metadata": {},
   "outputs": [
    {
     "data": {
      "text/plain": [
       "3807"
      ]
     },
     "execution_count": 3,
     "metadata": {},
     "output_type": "execute_result"
    }
   ],
   "source": [
    "alist = [line.rstrip() for line in open('data/ptt/gossiping_titles.txt', 'r')]\n",
    "len(alist)"
   ]
  },
  {
   "cell_type": "code",
   "execution_count": 8,
   "metadata": {},
   "outputs": [],
   "source": [
    "list_0 = [line.rstrip() for line in open('data/ptt/gossiping_titles.txt', 'r')]\n",
    "y_0 = ['gossiping'] * len(list_0)\n",
    "list_1 = [line.rstrip() for line in open('data/ptt/joke_titles.txt', 'r')]\n",
    "y_1 = ['joke'] * len(list_1)\n",
    "list_2 = [line.rstrip() for line in open('data/ptt/pokemon_titles.txt', 'r')]\n",
    "y_2 = ['pokemon'] * len(list_2)\n",
    "list_3 = [line.rstrip() for line in open('data/ptt/EASeries_titles.txt', 'r')]\n",
    "y_3 = ['EASeries'] * len(list_3)\n",
    "list_4 = [line.rstrip() for line in open('data/ptt/Soft_Job_titles.txt', 'r')]\n",
    "y_4 = ['Soft_Job'] * len(list_4)\n",
    "alist = list_0 + list_1 + list_2 + list_3 +list_4\n",
    "ylist = y_0 + y_1 + y_2 + y_3 + y_4 "
   ]
  },
  {
   "cell_type": "code",
   "execution_count": 10,
   "metadata": {},
   "outputs": [
    {
     "data": {
      "text/plain": [
       "17166"
      ]
     },
     "execution_count": 10,
     "metadata": {},
     "output_type": "execute_result"
    }
   ],
   "source": [
    "len(ylist)"
   ]
  },
  {
   "cell_type": "code",
   "execution_count": 11,
   "metadata": {},
   "outputs": [],
   "source": [
    "import pandas as pd"
   ]
  },
  {
   "cell_type": "code",
   "execution_count": 13,
   "metadata": {},
   "outputs": [
    {
     "data": {
      "text/html": [
       "<div>\n",
       "<style scoped>\n",
       "    .dataframe tbody tr th:only-of-type {\n",
       "        vertical-align: middle;\n",
       "    }\n",
       "\n",
       "    .dataframe tbody tr th {\n",
       "        vertical-align: top;\n",
       "    }\n",
       "\n",
       "    .dataframe thead th {\n",
       "        text-align: right;\n",
       "    }\n",
       "</style>\n",
       "<table border=\"1\" class=\"dataframe\">\n",
       "  <thead>\n",
       "    <tr style=\"text-align: right;\">\n",
       "      <th></th>\n",
       "      <th>Title</th>\n",
       "      <th>Board</th>\n",
       "    </tr>\n",
       "  </thead>\n",
       "  <tbody>\n",
       "    <tr>\n",
       "      <th>0</th>\n",
       "      <td>[新聞] 蔣萬安喊集中選票　柯文哲酸「只剩這招」</td>\n",
       "      <td>gossiping</td>\n",
       "    </tr>\n",
       "    <tr>\n",
       "      <th>1</th>\n",
       "      <td>[問卦] 吃鯊魚煙為何不被譴責</td>\n",
       "      <td>gossiping</td>\n",
       "    </tr>\n",
       "    <tr>\n",
       "      <th>2</th>\n",
       "      <td>[問卦] Google公車資訊準嗎</td>\n",
       "      <td>gossiping</td>\n",
       "    </tr>\n",
       "    <tr>\n",
       "      <th>3</th>\n",
       "      <td>[新聞] 高虹安赴中市考察 柯建銘︰假考察真蹭聲</td>\n",
       "      <td>gossiping</td>\n",
       "    </tr>\n",
       "    <tr>\n",
       "      <th>4</th>\n",
       "      <td>[新聞] 當台灣女孩遇上日本女孩！蔡英文：橘高</td>\n",
       "      <td>gossiping</td>\n",
       "    </tr>\n",
       "  </tbody>\n",
       "</table>\n",
       "</div>"
      ],
      "text/plain": [
       "                      Title      Board\n",
       "0  [新聞] 蔣萬安喊集中選票　柯文哲酸「只剩這招」  gossiping\n",
       "1           [問卦] 吃鯊魚煙為何不被譴責  gossiping\n",
       "2         [問卦] Google公車資訊準嗎  gossiping\n",
       "3  [新聞] 高虹安赴中市考察 柯建銘︰假考察真蹭聲  gossiping\n",
       "4   [新聞] 當台灣女孩遇上日本女孩！蔡英文：橘高  gossiping"
      ]
     },
     "execution_count": 13,
     "metadata": {},
     "output_type": "execute_result"
    }
   ],
   "source": [
    "df = pd.DataFrame({\n",
    "    'Title': alist,\n",
    "    'Board': ylist\n",
    "})\n",
    "df.head()"
   ]
  },
  {
   "cell_type": "code",
   "execution_count": 14,
   "metadata": {},
   "outputs": [],
   "source": [
    "df.to_csv('ptt_titles.csv')"
   ]
  },
  {
   "cell_type": "code",
   "execution_count": 20,
   "metadata": {},
   "outputs": [
    {
     "name": "stdout",
     "output_type": "stream",
     "text": [
      "['pokemon', 'EASeries', 'joke', 'Soft_Job']\n"
     ]
    }
   ],
   "source": [
    "# define list\n",
    "l = ['寶可夢版', '美劇版','笑話板','軟工版']\n",
    "  \n",
    "# replace Pant with Ishan\n",
    "l = list(map(lambda x: x.replace('寶可夢版', 'pokemon'), l))\n",
    "l = list(map(lambda x: x.replace('美劇版', 'EASeries'), l))\n",
    "l = list(map(lambda x: x.replace('笑話板', 'joke'), l))\n",
    "l = list(map(lambda x: x.replace('軟工版', 'Soft_Job'), l))\n",
    "\n",
    "# print list\n",
    "print(l)"
   ]
  },
  {
   "cell_type": "code",
   "execution_count": 19,
   "metadata": {},
   "outputs": [
    {
     "data": {
      "text/html": [
       "<div>\n",
       "<style scoped>\n",
       "    .dataframe tbody tr th:only-of-type {\n",
       "        vertical-align: middle;\n",
       "    }\n",
       "\n",
       "    .dataframe tbody tr th {\n",
       "        vertical-align: top;\n",
       "    }\n",
       "\n",
       "    .dataframe thead th {\n",
       "        text-align: right;\n",
       "    }\n",
       "</style>\n",
       "<table border=\"1\" class=\"dataframe\">\n",
       "  <thead>\n",
       "    <tr style=\"text-align: right;\">\n",
       "      <th></th>\n",
       "      <th>Title</th>\n",
       "      <th>Board</th>\n",
       "    </tr>\n",
       "  </thead>\n",
       "  <tbody>\n",
       "    <tr>\n",
       "      <th>0</th>\n",
       "      <td>[新聞] 蔣萬安喊集中選票　柯文哲酸「只剩這招」</td>\n",
       "      <td>gossiping</td>\n",
       "    </tr>\n",
       "    <tr>\n",
       "      <th>1</th>\n",
       "      <td>[問卦] 吃鯊魚煙為何不被譴責</td>\n",
       "      <td>gossiping</td>\n",
       "    </tr>\n",
       "    <tr>\n",
       "      <th>2</th>\n",
       "      <td>[問卦] Google公車資訊準嗎</td>\n",
       "      <td>gossiping</td>\n",
       "    </tr>\n",
       "    <tr>\n",
       "      <th>3</th>\n",
       "      <td>[新聞] 高虹安赴中市考察 柯建銘︰假考察真蹭聲</td>\n",
       "      <td>gossiping</td>\n",
       "    </tr>\n",
       "    <tr>\n",
       "      <th>4</th>\n",
       "      <td>[新聞] 當台灣女孩遇上日本女孩！蔡英文：橘高</td>\n",
       "      <td>gossiping</td>\n",
       "    </tr>\n",
       "    <tr>\n",
       "      <th>...</th>\n",
       "      <td>...</td>\n",
       "      <td>...</td>\n",
       "    </tr>\n",
       "    <tr>\n",
       "      <th>5181</th>\n",
       "      <td>[猜謎] 手遊不花錢玩家開討論群要叫什麼</td>\n",
       "      <td>joke</td>\n",
       "    </tr>\n",
       "    <tr>\n",
       "      <th>5182</th>\n",
       "      <td>[影音] 可以看到台灣街景了！</td>\n",
       "      <td>joke</td>\n",
       "    </tr>\n",
       "    <tr>\n",
       "      <th>5183</th>\n",
       "      <td>[耍冷] 哪一種動物身體最柔軟?</td>\n",
       "      <td>joke</td>\n",
       "    </tr>\n",
       "    <tr>\n",
       "      <th>5184</th>\n",
       "      <td>Fw: [新聞] 林智堅龍潭後援會成立　尷尬！他穿「抄人</td>\n",
       "      <td>joke</td>\n",
       "    </tr>\n",
       "    <tr>\n",
       "      <th>5185</th>\n",
       "      <td>[猜謎] 義大利露鳥十項全能選手</td>\n",
       "      <td>joke</td>\n",
       "    </tr>\n",
       "  </tbody>\n",
       "</table>\n",
       "<p>5186 rows × 2 columns</p>\n",
       "</div>"
      ],
      "text/plain": [
       "                             Title      Board\n",
       "0         [新聞] 蔣萬安喊集中選票　柯文哲酸「只剩這招」  gossiping\n",
       "1                  [問卦] 吃鯊魚煙為何不被譴責  gossiping\n",
       "2                [問卦] Google公車資訊準嗎  gossiping\n",
       "3         [新聞] 高虹安赴中市考察 柯建銘︰假考察真蹭聲  gossiping\n",
       "4          [新聞] 當台灣女孩遇上日本女孩！蔡英文：橘高  gossiping\n",
       "...                            ...        ...\n",
       "5181          [猜謎] 手遊不花錢玩家開討論群要叫什麼       joke\n",
       "5182               [影音] 可以看到台灣街景了！       joke\n",
       "5183              [耍冷] 哪一種動物身體最柔軟?       joke\n",
       "5184  Fw: [新聞] 林智堅龍潭後援會成立　尷尬！他穿「抄人       joke\n",
       "5185              [猜謎] 義大利露鳥十項全能選手       joke\n",
       "\n",
       "[5186 rows x 2 columns]"
      ]
     },
     "execution_count": 19,
     "metadata": {},
     "output_type": "execute_result"
    }
   ],
   "source": [
    "# a = ['寶可夢版', '美劇版','笑話板','軟工版']\n",
    "# df['Board'] == ['gossiping','joke']\n",
    "\n",
    "mask = df['Board'].isin(['gossiping','joke'])\n",
    "df[mask]"
   ]
  },
  {
   "cell_type": "code",
   "execution_count": null,
   "metadata": {},
   "outputs": [],
   "source": []
  }
 ],
 "metadata": {
  "kernelspec": {
   "display_name": "Python 3.8.9 64-bit",
   "language": "python",
   "name": "python3"
  },
  "language_info": {
   "codemirror_mode": {
    "name": "ipython",
    "version": 3
   },
   "file_extension": ".py",
   "mimetype": "text/x-python",
   "name": "python",
   "nbconvert_exporter": "python",
   "pygments_lexer": "ipython3",
   "version": "3.8.9"
  },
  "orig_nbformat": 4,
  "vscode": {
   "interpreter": {
    "hash": "31f2aee4e71d21fbe5cf8b01ff0e069b9275f58929596ceb00d14d90e3e16cd6"
   }
  }
 },
 "nbformat": 4,
 "nbformat_minor": 2
}
