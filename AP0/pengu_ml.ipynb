{
 "cells": [
  {
   "cell_type": "code",
   "execution_count": 2,
   "metadata": {},
   "outputs": [],
   "source": [
    "import pandas as pd \n",
    "import matplotlib.pyplot as plt\n",
    "import seaborn as sns\n",
    "from sklearn.metrics import accuracy_score \n",
    "from sklearn.ensemble import RandomForestClassifier \n",
    "from sklearn.model_selection import train_test_split \n",
    "import pickle \n"
   ]
  },
  {
   "cell_type": "code",
   "execution_count": 3,
   "metadata": {},
   "outputs": [],
   "source": [
    "\n",
    "penguin_df = pd.read_csv('penguins.csv') \n",
    "penguin_df.dropna(inplace=True) \n",
    "output = penguin_df['species'] \n",
    "features = penguin_df[['island', 'bill_length_mm', 'bill_depth_mm', 'flipper_length_mm', 'body_mass_g', 'sex']] \n",
    "features = pd.get_dummies(features) \n",
    "output, uniques = pd.factorize(output) "
   ]
  },
  {
   "cell_type": "code",
   "execution_count": 4,
   "metadata": {},
   "outputs": [
    {
     "name": "stdout",
     "output_type": "stream",
     "text": [
      "Our accuracy score for this model is 0.9775280898876404\n"
     ]
    }
   ],
   "source": [
    "x_train, x_test, y_train, y_test = train_test_split(features, \n",
    "output, test_size=.8) \n",
    "\n",
    "rfc = RandomForestClassifier(random_state=15) \n",
    "rfc.fit(x_train, y_train) \n",
    "y_pred = rfc.predict(x_test) \n",
    "score = accuracy_score(y_pred, y_test) \n",
    "\n",
    "print('Our accuracy score for this model is {}'.format(score)) "
   ]
  },
  {
   "cell_type": "code",
   "execution_count": 5,
   "metadata": {},
   "outputs": [],
   "source": [
    "\n",
    "rf_pickle = open('random_forest_penguin.pickle', 'wb')  # 輸出模型檔\n",
    "pickle.dump(rfc, rf_pickle) \n",
    "rf_pickle.close() \n",
    "output_pickle = open('output_penguin.pickle', 'wb') \n",
    "pickle.dump(uniques, output_pickle) \n",
    "output_pickle.close() "
   ]
  },
  {
   "cell_type": "code",
   "execution_count": 7,
   "metadata": {},
   "outputs": [
    {
     "data": {
      "image/png": "[encoded data removed]",
      "text/plain": [
       "<Figure size 432x288 with 1 Axes>"
      ]
     },
     "metadata": {
      "needs_background": "light"
     },
     "output_type": "display_data"
    }
   ],
   "source": [
    "\n",
    "fig, ax = plt.subplots() \n",
    "\n",
    "ax = sns.barplot(x=rfc.feature_importances_, y=features.columns) \n",
    "plt.title('Which features are the most important for species prediction?') \n",
    "plt.xlabel('Importance') \n",
    "plt.ylabel('Feature') \n",
    "plt.tight_layout() \n",
    "fig.savefig('feature_importance.png') "
   ]
  },
  {
   "cell_type": "code",
   "execution_count": 14,
   "metadata": {},
   "outputs": [
    {
     "data": {
      "text/plain": [
       "'/Users/pytsai/RD_Lab/test/nlpweb/pengu_app'"
      ]
     },
     "execution_count": 14,
     "metadata": {},
     "output_type": "execute_result"
    }
   ],
   "source": []
  },
  {
   "cell_type": "code",
   "execution_count": null,
   "metadata": {},
   "outputs": [],
   "source": []
  }
 ],
 "metadata": {
  "kernelspec": {
   "display_name": "Python 3.8.9 64-bit",
   "language": "python",
   "name": "python3"
  },
  "language_info": {
   "codemirror_mode": {
    "name": "ipython",
    "version": 3
   },
   "file_extension": ".py",
   "mimetype": "text/x-python",
   "name": "python",
   "nbconvert_exporter": "python",
   "pygments_lexer": "ipython3",
   "version": "3.8.9"
  },
  "orig_nbformat": 4,
  "vscode": {
   "interpreter": {
    "hash": "31f2aee4e71d21fbe5cf8b01ff0e069b9275f58929596ceb00d14d90e3e16cd6"
   }
  }
 },
 "nbformat": 4,
 "nbformat_minor": 2
}
